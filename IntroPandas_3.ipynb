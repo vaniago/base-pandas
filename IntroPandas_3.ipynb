{
  "nbformat": 4,
  "nbformat_minor": 0,
  "metadata": {
    "colab": {
      "name": "IntroPandas_3.ipynb",
      "provenance": [],
      "collapsed_sections": [
        "VpjkD64LtqZS",
        "NjStOffxxIGp",
        "R5rbkraaJ1nf",
        "pHe47_nztstX",
        "kAvmgtqK2dXs",
        "GKjbso7dzCFx",
        "GWXPcUr3jdj8",
        "4WGOBzAT12Xs",
        "0SzEOXVG2u-a",
        "QkjaeHiqsJm6",
        "Z70P1_8rlT0z",
        "LI-fGWjPmK0C",
        "FlSjbF2Tp-ii",
        "PSiHqBL1qbM4"
      ],
      "authorship_tag": "ABX9TyOD+dh4Q6TtJwl8IttgBole",
      "include_colab_link": true
    },
    "kernelspec": {
      "name": "python3",
      "display_name": "Python 3"
    },
    "language_info": {
      "name": "python"
    }
  },
  "cells": [
    {
      "cell_type": "markdown",
      "metadata": {
        "id": "view-in-github",
        "colab_type": "text"
      },
      "source": [
        "<a href=\"https://colab.research.google.com/github/vaniago/base-pandas/blob/main/IntroPandas_3.ipynb\" target=\"_parent\"><img src=\"https://colab.research.google.com/assets/colab-badge.svg\" alt=\"Open In Colab\"/></a>"
      ]
    },
    {
      "cell_type": "markdown",
      "metadata": {
        "id": "f9XcMrlS5XcC"
      },
      "source": [
        "#**Introdução ao Pandas 3**"
      ]
    },
    {
      "cell_type": "markdown",
      "metadata": {
        "id": "pA3FA7f2w-Wn"
      },
      "source": [
        "#Importar, analisar, modificar e salvar um dataframe"
      ]
    },
    {
      "cell_type": "markdown",
      "metadata": {
        "id": "VpjkD64LtqZS"
      },
      "source": [
        "##Métodos de importação e exportação: *pd.read_NNN()* e *df.to_NNN()*"
      ]
    },
    {
      "cell_type": "markdown",
      "metadata": {
        "id": "NjStOffxxIGp"
      },
      "source": [
        "Pandas provê uma família de métodos de leitura e escrita em diferentes formatos, a tabela a seguir mostra alguns deles:\n"
      ]
    },
    {
      "cell_type": "markdown",
      "metadata": {
        "id": "q1KVKjPx4ZUA"
      },
      "source": [
        "**Métodos de leitura e escrita de dataframes**\n",
        "\n",
        "| Formato                           | Leitura                | Escrita              |\n",
        "|-----------------------------------|------------------------|----------------------|\n",
        "| csv=comma separated values        | pd.read_csv()          | df.to_csv()          |\n",
        "| excel xls, xlsx                   | pd.read_excel()        | df.to_excel          |\n",
        "| fwf=fixed width formatted         | pd.read_fwf()          | df.to_csv()          |\n",
        "| html                              | pd.read_html()         | df.to_html()         |\n",
        "| xml                               | pd.read_xml()          | df.to_xml()          |\n",
        "| hdf= hierarchical data format 5   | pd.read_hdf()          | df.to_hdf()          |\n",
        "| sas = XPORT or SAS7BDAT           | pd.read_sas()          | -                    |\n",
        "| spss                              | pd.read_spss()         | -                    |\n",
        "| sql                               | pd.read_sql()          | df.to_sql()          |\n",
        "| gbq= google BigQuery              | pd.read_gbq()          | df.to_gbq()          |\n",
        "| stata                             | pd.read_stata()        | df.to_stata()        |\n",
        "| json                              | pd.io.json.read_json() | pd.io.json.to_json() |\n",
        "| table: tabela genérica delimitada | pd.read_table()        | df.to_csv()          |"
      ]
    },
    {
      "cell_type": "markdown",
      "metadata": {
        "id": "R5rbkraaJ1nf"
      },
      "source": [
        "##Importar um arquivo csv, gerar um gráfico e salvar como png."
      ]
    },
    {
      "cell_type": "code",
      "metadata": {
        "colab": {
          "base_uri": "https://localhost:8080/",
          "height": 496
        },
        "id": "k8Bbp6mK5brB",
        "outputId": "af66412a-857f-47e3-a979-ea716b1d34d5"
      },
      "source": [
        "import pandas as pd\n",
        "import matplotlib.pyplot as plt\n",
        "\n",
        "\n",
        "#recebe o arquivo\n",
        "bdat=pd.read_csv('beer_ratings.csv') \n",
        "\n",
        "#separa melhores e piores\n",
        "b1dat=bdat[(bdat.review_overall>4.7)]\n",
        "b2dat=bdat[(bdat.review_overall<1.8)]\n",
        "\n",
        "#gera gráficos dos melhores e piores\n",
        "#estilo\n",
        "plt.style.use('ggplot')\n",
        "\n",
        "#tamanho\n",
        "plt.rcParams['figure.figsize'] = (14,7.875)\n",
        "\n",
        "#dois gráficos, cada um é um eixo da figura\n",
        "figura, eixo = plt.subplots(1,2)\n",
        "\n",
        "#título e indicação de fonte\n",
        "figura.suptitle('Beer Profile and Ratings Data Set',weight='black',color='black',size='x-large')\n",
        "footer_text = 'Fonte: ruthgn em: https://www.kaggle.com/ruthgn/beer-profile-and-ratings-data-set'\n",
        "plt.figtext(0.9, -0.12, footer_text, horizontalalignment='right', size=10, weight='black',style='italic')\n",
        "\n",
        "#define a figura das melhores\n",
        "eixo[0].bar(\n",
        "        b1dat.Name,\n",
        "        b1dat.review_overall)\n",
        "eixo[0].set(title=\"Melhores cervejas\\n (review overall>4.7)\")\n",
        "eixo[0].annotate(\"A melhor de todas!\", \n",
        "            xy=(2, 4.5),\n",
        "            xycoords='data',\n",
        "            xytext=(3, 5.1),\n",
        "            textcoords='data',\n",
        "            color='blue',\n",
        "            style='italic',\n",
        "            arrowprops=dict(arrowstyle=\"->\",connectionstyle=\"arc3\",color='blue'))\n",
        "\n",
        "eixo[0].tick_params(axis='x', colors='black',labelsize='large')\n",
        "plt.setp(eixo[0].get_xticklabels(), rotation=25, horizontalalignment='right')\n",
        "\n",
        "#define a figura das piores\n",
        "eixo[1].bar(\n",
        "        b2dat.Name,\n",
        "        b2dat.review_overall)\n",
        "\n",
        "eixo[1].set(title=\"Piores cervejas\\n (review overall<1.8)\")\n",
        "\n",
        "#muda o limite para ficar comparável ao outro gráfico\n",
        "eixo[1].set_ylim([0, 5])\n",
        "eixo[1].tick_params(axis='x', colors='black',labelsize='large')\n",
        "plt.setp(eixo[1].get_xticklabels(), rotation=25, horizontalalignment='right')\n",
        "\n",
        "#cria os gráficos\n",
        "plt.savefig('ratings.png', format='png',bbox_inches = \"tight\")\n",
        "plt.show()\n"
      ],
      "execution_count": null,
      "outputs": [
        {
          "output_type": "display_data",
          "data": {
            "image/png": "[encoded data removed]",
            "text/plain": [
              "<Figure size 1008x567 with 2 Axes>"
            ]
          },
          "metadata": {}
        }
      ]
    },
    {
      "cell_type": "markdown",
      "metadata": {
        "id": "pHe47_nztstX"
      },
      "source": [
        "##Calcular estatísticas\n"
      ]
    },
    {
      "cell_type": "markdown",
      "metadata": {
        "id": "kAvmgtqK2dXs"
      },
      "source": [
        "###Sumário estatístico: *describe()*\n",
        "\n",
        "O método *describe* gera um resumo estatístico dos dados."
      ]
    },
    {
      "cell_type": "markdown",
      "metadata": {
        "id": "YDkuq31vjLch"
      },
      "source": [
        "####Para dados numéricos"
      ]
    },
    {
      "cell_type": "code",
      "metadata": {
        "id": "sLMOZ2m1uMi2",
        "colab": {
          "base_uri": "https://localhost:8080/"
        },
        "outputId": "4dea096b-56c2-47a0-df40-dbc11b2c38bb"
      },
      "source": [
        "#usando bdat definido acima\n",
        "\n",
        "print(bdat[[\"ABV\",\"review_aroma\",\"review_overall\"]].describe())"
      ],
      "execution_count": null,
      "outputs": [
        {
          "output_type": "stream",
          "name": "stdout",
          "text": [
            "               ABV  review_aroma  review_overall\n",
            "count  3197.000000   3197.000000     3197.000000\n",
            "mean      6.526688      3.638789        3.747522\n",
            "std       2.546997      0.503209        0.444288\n",
            "min       0.000000      1.509615        1.136364\n",
            "25%       5.000000      3.422559        3.566667\n",
            "50%       6.000000      3.720183        3.830239\n",
            "75%       7.600000      3.978000        4.032847\n",
            "max      57.500000      5.000000        5.000000\n"
          ]
        }
      ]
    },
    {
      "cell_type": "markdown",
      "metadata": {
        "id": "GKjbso7dzCFx"
      },
      "source": [
        "####Para dados categoriais, não-numéricos\n",
        "\n",
        "*describe()* também se aplica a dados não-numéricos, fazendo a contagem de tipos únicos e indicando o mais frequente."
      ]
    },
    {
      "cell_type": "code",
      "metadata": {
        "id": "vTM_amOqzHeb",
        "colab": {
          "base_uri": "https://localhost:8080/"
        },
        "outputId": "37e2eb68-e7c3-454a-a7fe-d78988e66f90"
      },
      "source": [
        "#usando bdat definido acima\n",
        "\n",
        "print(bdat[[\"Style\",\"Brewery\"]].describe())"
      ],
      "execution_count": null,
      "outputs": [
        {
          "output_type": "stream",
          "name": "stdout",
          "text": [
            "                  Style                             Brewery\n",
            "count              3197                                3197\n",
            "unique              111                                 934\n",
            "top     Lager - Adjunct  Boston Beer Company (Samuel Adams)\n",
            "freq                 45                                  40\n"
          ]
        }
      ]
    },
    {
      "cell_type": "markdown",
      "metadata": {
        "id": "06H-g96BjqN7"
      },
      "source": [
        "Pelo resultado, temos 111 estilos diferentes, sendo o mais frequente *'Lager - Adjunct'* com 45 elementos."
      ]
    },
    {
      "cell_type": "markdown",
      "metadata": {
        "id": "GWXPcUr3jdj8"
      },
      "source": [
        "###Outras ações com dados não-numéricos"
      ]
    },
    {
      "cell_type": "markdown",
      "metadata": {
        "id": "4WGOBzAT12Xs"
      },
      "source": [
        "####Apresentar os nomes dos estilos únicos: *unique()*\n",
        "\n",
        "O método *unique* permite identificar quais são os valores distintos de uma categoria:"
      ]
    },
    {
      "cell_type": "code",
      "metadata": {
        "id": "GNjQRtkY7IEj",
        "colab": {
          "base_uri": "https://localhost:8080/"
        },
        "outputId": "b6f55afd-a2ed-436c-f9cf-ff2518f44cb7"
      },
      "source": [
        "unicos=bdat.Style.unique()\n",
        "for estilo in unicos:\n",
        "  print(estilo)"
      ],
      "execution_count": null,
      "outputs": [
        {
          "output_type": "stream",
          "name": "stdout",
          "text": [
            "Altbier\n",
            "Barleywine - American\n",
            "Barleywine - English\n",
            "Bitter - English Extra Special / Strong Bitter (ESB)\n",
            "Bitter - English\n",
            "Bière de Champagne / Bière Brut\n",
            "Blonde Ale - American\n",
            "Blonde Ale - Belgian\n",
            "Bock - Doppelbock\n",
            "Bock - Eisbock\n",
            "Bock - Maibock\n",
            "Bock - Traditional\n",
            "Bock - Weizenbock\n",
            "Braggot\n",
            "Brett Beer\n",
            "Brown Ale - American\n",
            "Brown Ale - Belgian Dark\n",
            "Brown Ale - English\n",
            "California Common / Steam Beer\n",
            "Chile Beer\n",
            "Cream Ale\n",
            "Dubbel\n",
            "Farmhouse Ale - Bière de Garde\n",
            "Farmhouse Ale - Sahti\n",
            "Farmhouse Ale - Saison\n",
            "Fruit and Field Beer\n",
            "Gruit / Ancient Herbed Ale\n",
            "Happoshu\n",
            "Herb and Spice Beer\n",
            "IPA - American\n",
            "IPA - Belgian\n",
            "IPA - Black / Cascadian Dark Ale\n",
            "IPA - English\n",
            "IPA - Imperial\n",
            "IPA - New England\n",
            "Kvass\n",
            "Kölsch\n",
            "Lager - Adjunct\n",
            "Lager - American Amber / Red\n",
            "Lager - American\n",
            "Lager - European / Dortmunder Export\n",
            "Lager - European Dark\n",
            "Lager - European Pale\n",
            "Lager - European Strong\n",
            "Lager - Helles\n",
            "Lager - India Pale Lager (IPL)\n",
            "Lager - Japanese Rice\n",
            "Lager - Kellerbier / Zwickelbier\n",
            "Lager - Light\n",
            "Lager - Malt Liquor\n",
            "Lager - Munich Dunkel\n",
            "Lager - Märzen / Oktoberfest\n",
            "Lager - Rauchbier\n",
            "Lager - Schwarzbier\n",
            "Lager - Vienna\n",
            "Lambic - Faro\n",
            "Lambic - Fruit\n",
            "Lambic - Gueuze\n",
            "Lambic - Traditional\n",
            "Low Alcohol Beer\n",
            "Mild Ale - English Dark\n",
            "Mild Ale - English Pale\n",
            "Old Ale\n",
            "Pale Ale - American\n",
            "Pale Ale - Belgian\n",
            "Pale Ale - English\n",
            "Pilsner - Bohemian / Czech\n",
            "Pilsner - German\n",
            "Pilsner - Imperial\n",
            "Porter - American\n",
            "Porter - Baltic\n",
            "Porter - English\n",
            "Porter - Imperial\n",
            "Porter - Robust\n",
            "Porter - Smoked\n",
            "Pumpkin Beer\n",
            "Quadrupel (Quad)\n",
            "Red Ale - American Amber / Red\n",
            "Red Ale - Imperial\n",
            "Red Ale - Irish\n",
            "Rye Beer - Roggenbier\n",
            "Rye Beer\n",
            "Scotch Ale / Wee Heavy\n",
            "Scottish Ale\n",
            "Smoked Beer\n",
            "Sour - Berliner Weisse\n",
            "Sour - Flanders Oud Bruin\n",
            "Sour - Flanders Red Ale\n",
            "Sour - Gose\n",
            "Stout - American Imperial\n",
            "Stout - American\n",
            "Stout - English\n",
            "Stout - Foreign / Export\n",
            "Stout - Irish Dry\n",
            "Stout - Oatmeal\n",
            "Stout - Russian Imperial\n",
            "Stout - Sweet / Milk\n",
            "Strong Ale - American\n",
            "Strong Ale - Belgian Dark\n",
            "Strong Ale - Belgian Pale\n",
            "Strong Ale - English\n",
            "Tripel\n",
            "Wheat Beer - American Dark\n",
            "Wheat Beer - American Pale\n",
            "Wheat Beer - Dunkelweizen\n",
            "Wheat Beer - Hefeweizen\n",
            "Wheat Beer - Kristallweizen\n",
            "Wheat Beer - Wheatwine\n",
            "Wheat Beer - Witbier\n",
            "Wild Ale\n",
            "Winter Warmer\n"
          ]
        }
      ]
    },
    {
      "cell_type": "markdown",
      "metadata": {
        "id": "0SzEOXVG2u-a"
      },
      "source": [
        "####Determinar a frequência de cada categoria: *value_counts()*"
      ]
    },
    {
      "cell_type": "markdown",
      "metadata": {
        "id": "T464HL_x0YkS"
      },
      "source": [
        "Para saber a frequência de cada um dos valores únicos, usa-se *value_counts()*\n",
        "\n",
        "Exemplo: Calcular a frequência de cada estilo (Style) de cerveja."
      ]
    },
    {
      "cell_type": "code",
      "metadata": {
        "id": "7KoKCLZM0iH2",
        "colab": {
          "base_uri": "https://localhost:8080/"
        },
        "outputId": "483033cc-3be2-43a3-de59-55c34b376300"
      },
      "source": [
        "#fazer o pandas imprimir todas as linhas do dataframe\n",
        "pd.set_option(\"display.max_rows\", None, \"display.max_columns\", None)\n",
        "\n",
        "#obter as frequências de cada categoria em Style\n",
        "print(bdat['Style'].value_counts())"
      ],
      "execution_count": null,
      "outputs": [
        {
          "output_type": "stream",
          "name": "stdout",
          "text": [
            "Lager - Adjunct                                         45\n",
            "Lager - European Pale                                   43\n",
            "Wheat Beer - Hefeweizen                                 42\n",
            "Stout - Irish Dry                                       42\n",
            "Lambic - Fruit                                          42\n",
            "Strong Ale - Belgian Dark                               41\n",
            "Bitter - English                                        41\n",
            "Dubbel                                                  41\n",
            "Winter Warmer                                           40\n",
            "Lager - Light                                           40\n",
            "Brown Ale - English                                     40\n",
            "Pale Ale - English                                      40\n",
            "Bock - Doppelbock                                       40\n",
            "Strong Ale - Belgian Pale                               40\n",
            "Lager - Märzen / Oktoberfest                            39\n",
            "Altbier                                                 39\n",
            "Lager - European Strong                                 39\n",
            "IPA - American                                          38\n",
            "Pilsner - German                                        38\n",
            "Red Ale - Irish                                         38\n",
            "Barleywine - American                                   38\n",
            "Wheat Beer - Dunkelweizen                               37\n",
            "Lager - Vienna                                          37\n",
            "Fruit and Field Beer                                    37\n",
            "IPA - English                                           37\n",
            "Porter - English                                        37\n",
            "Tripel                                                  37\n",
            "Stout - Foreign / Export                                36\n",
            "Lager - Helles                                          36\n",
            "Lager - Munich Dunkel                                   36\n",
            "Porter - American                                       36\n",
            "Wheat Beer - Witbier                                    36\n",
            "Scotch Ale / Wee Heavy                                  35\n",
            "Stout - Russian Imperial                                35\n",
            "Bock - Maibock                                          35\n",
            "Lager - European / Dortmunder Export                    35\n",
            "IPA - Imperial                                          35\n",
            "Strong Ale - English                                    35\n",
            "Bock - Traditional                                      34\n",
            "Quadrupel (Quad)                                        34\n",
            "Scottish Ale                                            34\n",
            "Old Ale                                                 34\n",
            "Lager - American Amber / Red                            34\n",
            "Stout - American Imperial                               34\n",
            "Lager - Malt Liquor                                     33\n",
            "Pale Ale - Belgian                                      33\n",
            "Stout - Oatmeal                                         33\n",
            "Red Ale - American Amber / Red                          33\n",
            "Blonde Ale - Belgian                                    33\n",
            "Bitter - English Extra Special / Strong Bitter (ESB)    33\n",
            "Strong Ale - American                                   32\n",
            "Wheat Beer - American Pale                              32\n",
            "Kölsch                                                  32\n",
            "Farmhouse Ale - Bière de Garde                          32\n",
            "Bock - Weizenbock                                       32\n",
            "Low Alcohol Beer                                        32\n",
            "Farmhouse Ale - Saison                                  31\n",
            "Blonde Ale - American                                   31\n",
            "Lager - European Dark                                   31\n",
            "Lager - Schwarzbier                                     30\n",
            "Pumpkin Beer                                            30\n",
            "Pilsner - Bohemian / Czech                              29\n",
            "Stout - American                                        29\n",
            "Porter - Baltic                                         29\n",
            "Smoked Beer                                             28\n",
            "Brown Ale - American                                    28\n",
            "Mild Ale - English Dark                                 28\n",
            "Stout - English                                         28\n",
            "Porter - Smoked                                         26\n",
            "Barleywine - English                                    26\n",
            "Brown Ale - Belgian Dark                                26\n",
            "IPA - Belgian                                           26\n",
            "Wheat Beer - Kristallweizen                             26\n",
            "Pale Ale - American                                     25\n",
            "Lager - Rauchbier                                       25\n",
            "Chile Beer                                              25\n",
            "Lambic - Gueuze                                         25\n",
            "Sour - Flanders Red Ale                                 24\n",
            "Lambic - Traditional                                    24\n",
            "Herb and Spice Beer                                     24\n",
            "Cream Ale                                               24\n",
            "Happoshu                                                23\n",
            "IPA - Black / Cascadian Dark Ale                        23\n",
            "Wild Ale                                                23\n",
            "Lager - American                                        22\n",
            "Kvass                                                   21\n",
            "Rye Beer                                                21\n",
            "Lager - Japanese Rice                                   21\n",
            "California Common / Steam Beer                          20\n",
            "Sour - Flanders Oud Bruin                               20\n",
            "Porter - Imperial                                       20\n",
            "Gruit / Ancient Herbed Ale                              19\n",
            "Mild Ale - English Pale                                 19\n",
            "Red Ale - Imperial                                      19\n",
            "Pilsner - Imperial                                      19\n",
            "Wheat Beer - American Dark                              18\n",
            "Stout - Sweet / Milk                                    17\n",
            "Porter - Robust                                         16\n",
            "Rye Beer - Roggenbier                                   16\n",
            "Lager - Kellerbier / Zwickelbier                        15\n",
            "Wheat Beer - Wheatwine                                  15\n",
            "Bock - Eisbock                                          14\n",
            "Braggot                                                 14\n",
            "Sour - Berliner Weisse                                  10\n",
            "Farmhouse Ale - Sahti                                    9\n",
            "Lambic - Faro                                            9\n",
            "Bière de Champagne / Bière Brut                          8\n",
            "Lager - India Pale Lager (IPL)                           6\n",
            "IPA - New England                                        4\n",
            "Sour - Gose                                              3\n",
            "Brett Beer                                               3\n",
            "Name: Style, dtype: int64\n"
          ]
        }
      ]
    },
    {
      "cell_type": "markdown",
      "metadata": {
        "id": "WE2d-3dI9fNH"
      },
      "source": [
        "####Agrupar contagem entre categorias\n",
        "\n"
      ]
    },
    {
      "cell_type": "markdown",
      "metadata": {
        "id": "QkjaeHiqsJm6"
      },
      "source": [
        "#####Quantas cervejas de cada estilo são produzidas em cada uma das cervejarias, o que equivale a agrupar os estilos por cervejarias: *groupby()* e *value_counts()*"
      ]
    },
    {
      "cell_type": "code",
      "metadata": {
        "id": "qgnn29-64h5m"
      },
      "source": [
        "#fazer o pandas imprimir todas as linhas do dataframe\n",
        "#pd.set_option(\"display.max_rows\", None, \"display.max_columns\", None)\n",
        "\n",
        "#obter as frequências por cervejaria (Brewery) de cada categoria de estilo (Style)\n",
        "print(bdat.groupby(['Brewery'])['Style'].value_counts())"
      ],
      "execution_count": null,
      "outputs": []
    },
    {
      "cell_type": "markdown",
      "metadata": {
        "id": "Z70P1_8rlT0z"
      },
      "source": [
        "#####Para um dado estilo (Style), saber quantos exemplares desse estilo cada cervejaria possui, o que equivale a agrupar por estilos a produção das cervejarias."
      ]
    },
    {
      "cell_type": "code",
      "metadata": {
        "id": "Ha17FlfMBqY6"
      },
      "source": [
        "#fazer o pandas imprimir todas as linhas do dataframe\n",
        "#pd.set_option(\"display.max_rows\", None, \"display.max_columns\", None)\n",
        "\n",
        "#obter as frequências de Style de cada categoria em Brewery\n",
        "print(bdat.groupby(['Style'])['Brewery'].value_counts())"
      ],
      "execution_count": null,
      "outputs": []
    },
    {
      "cell_type": "markdown",
      "metadata": {
        "id": "LI-fGWjPmK0C"
      },
      "source": [
        "####Contagem por grupo: count()"
      ]
    },
    {
      "cell_type": "markdown",
      "metadata": {
        "id": "M78djLGemQDf"
      },
      "source": [
        "Quantas cervejas diferentes existem para cada estilo?\n",
        "\n",
        "Observe que é o mesmo resultado de *describe()*, mas apresentado por ordem de estilos."
      ]
    },
    {
      "cell_type": "code",
      "metadata": {
        "id": "8Lzs9xyI-uHs",
        "colab": {
          "base_uri": "https://localhost:8080/"
        },
        "outputId": "f17fad65-a273-48fe-a037-72ecb93f6d3a"
      },
      "source": [
        "#Quantas cervejas são produzidas naquele estilo\n",
        "print(bdat.groupby(['Style'])['Brewery'].count())"
      ],
      "execution_count": null,
      "outputs": [
        {
          "output_type": "stream",
          "name": "stdout",
          "text": [
            "Style\n",
            "Altbier                                                 39\n",
            "Barleywine - American                                   38\n",
            "Barleywine - English                                    26\n",
            "Bitter - English                                        41\n",
            "Bitter - English Extra Special / Strong Bitter (ESB)    33\n",
            "Bière de Champagne / Bière Brut                          8\n",
            "Blonde Ale - American                                   31\n",
            "Blonde Ale - Belgian                                    33\n",
            "Bock - Doppelbock                                       40\n",
            "Bock - Eisbock                                          14\n",
            "Bock - Maibock                                          35\n",
            "Bock - Traditional                                      34\n",
            "Bock - Weizenbock                                       32\n",
            "Braggot                                                 14\n",
            "Brett Beer                                               3\n",
            "Brown Ale - American                                    28\n",
            "Brown Ale - Belgian Dark                                26\n",
            "Brown Ale - English                                     40\n",
            "California Common / Steam Beer                          20\n",
            "Chile Beer                                              25\n",
            "Cream Ale                                               24\n",
            "Dubbel                                                  41\n",
            "Farmhouse Ale - Bière de Garde                          32\n",
            "Farmhouse Ale - Sahti                                    9\n",
            "Farmhouse Ale - Saison                                  31\n",
            "Fruit and Field Beer                                    37\n",
            "Gruit / Ancient Herbed Ale                              19\n",
            "Happoshu                                                23\n",
            "Herb and Spice Beer                                     24\n",
            "IPA - American                                          38\n",
            "IPA - Belgian                                           26\n",
            "IPA - Black / Cascadian Dark Ale                        23\n",
            "IPA - English                                           37\n",
            "IPA - Imperial                                          35\n",
            "IPA - New England                                        4\n",
            "Kvass                                                   21\n",
            "Kölsch                                                  32\n",
            "Lager - Adjunct                                         45\n",
            "Lager - American                                        22\n",
            "Lager - American Amber / Red                            34\n",
            "Lager - European / Dortmunder Export                    35\n",
            "Lager - European Dark                                   31\n",
            "Lager - European Pale                                   43\n",
            "Lager - European Strong                                 39\n",
            "Lager - Helles                                          36\n",
            "Lager - India Pale Lager (IPL)                           6\n",
            "Lager - Japanese Rice                                   21\n",
            "Lager - Kellerbier / Zwickelbier                        15\n",
            "Lager - Light                                           40\n",
            "Lager - Malt Liquor                                     33\n",
            "Lager - Munich Dunkel                                   36\n",
            "Lager - Märzen / Oktoberfest                            39\n",
            "Lager - Rauchbier                                       25\n",
            "Lager - Schwarzbier                                     30\n",
            "Lager - Vienna                                          37\n",
            "Lambic - Faro                                            9\n",
            "Lambic - Fruit                                          42\n",
            "Lambic - Gueuze                                         25\n",
            "Lambic - Traditional                                    24\n",
            "Low Alcohol Beer                                        32\n",
            "Mild Ale - English Dark                                 28\n",
            "Mild Ale - English Pale                                 19\n",
            "Old Ale                                                 34\n",
            "Pale Ale - American                                     25\n",
            "Pale Ale - Belgian                                      33\n",
            "Pale Ale - English                                      40\n",
            "Pilsner - Bohemian / Czech                              29\n",
            "Pilsner - German                                        38\n",
            "Pilsner - Imperial                                      19\n",
            "Porter - American                                       36\n",
            "Porter - Baltic                                         29\n",
            "Porter - English                                        37\n",
            "Porter - Imperial                                       20\n",
            "Porter - Robust                                         16\n",
            "Porter - Smoked                                         26\n",
            "Pumpkin Beer                                            30\n",
            "Quadrupel (Quad)                                        34\n",
            "Red Ale - American Amber / Red                          33\n",
            "Red Ale - Imperial                                      19\n",
            "Red Ale - Irish                                         38\n",
            "Rye Beer                                                21\n",
            "Rye Beer - Roggenbier                                   16\n",
            "Scotch Ale / Wee Heavy                                  35\n",
            "Scottish Ale                                            34\n",
            "Smoked Beer                                             28\n",
            "Sour - Berliner Weisse                                  10\n",
            "Sour - Flanders Oud Bruin                               20\n",
            "Sour - Flanders Red Ale                                 24\n",
            "Sour - Gose                                              3\n",
            "Stout - American                                        29\n",
            "Stout - American Imperial                               34\n",
            "Stout - English                                         28\n",
            "Stout - Foreign / Export                                36\n",
            "Stout - Irish Dry                                       42\n",
            "Stout - Oatmeal                                         33\n",
            "Stout - Russian Imperial                                35\n",
            "Stout - Sweet / Milk                                    17\n",
            "Strong Ale - American                                   32\n",
            "Strong Ale - Belgian Dark                               41\n",
            "Strong Ale - Belgian Pale                               40\n",
            "Strong Ale - English                                    35\n",
            "Tripel                                                  37\n",
            "Wheat Beer - American Dark                              18\n",
            "Wheat Beer - American Pale                              32\n",
            "Wheat Beer - Dunkelweizen                               37\n",
            "Wheat Beer - Hefeweizen                                 42\n",
            "Wheat Beer - Kristallweizen                             26\n",
            "Wheat Beer - Wheatwine                                  15\n",
            "Wheat Beer - Witbier                                    36\n",
            "Wild Ale                                                23\n",
            "Winter Warmer                                           40\n",
            "Name: Brewery, dtype: int64\n"
          ]
        }
      ]
    },
    {
      "cell_type": "markdown",
      "metadata": {
        "id": "igIUXXtwmehq"
      },
      "source": [
        "Quantas cervejas são produzidas em cada cervejaria?\n",
        "\n",
        "O resultado sai por ordem de cervejaria."
      ]
    },
    {
      "cell_type": "code",
      "metadata": {
        "id": "bnUYjf8fj_xw"
      },
      "source": [
        "#Quantas cervejas são produzidas por aquela cervejaria\n",
        "print(bdat.groupby(['Brewery'])['Style'].count())"
      ],
      "execution_count": null,
      "outputs": []
    },
    {
      "cell_type": "markdown",
      "metadata": {
        "id": "FlSjbF2Tp-ii"
      },
      "source": [
        "####Medidas estatísticas definidas pelo usuário"
      ]
    },
    {
      "cell_type": "markdown",
      "metadata": {
        "id": "FDlAWQspyPHs"
      },
      "source": [
        "O método *agg* ou *aggregate* permite selecionar as medidas desejadas.\n",
        "\n",
        "É possível usar medidas por funções e métodos pré-definidos ou funções definidas pelo usuário."
      ]
    },
    {
      "cell_type": "code",
      "metadata": {
        "colab": {
          "base_uri": "https://localhost:8080/"
        },
        "id": "-1QLU9bpyWN8",
        "outputId": "c60f18f3-03da-4cb6-b95a-1139d055ec49"
      },
      "source": [
        "#usando as variáveis da célula anterior\n",
        "\n",
        "def q1(n): #primeiro quartil\n",
        "    return n.quantile(0.25)\n",
        "\n",
        "def q2(n): #mediana\n",
        "    return n.quantile(0.5)\n",
        "\n",
        "def q3(n): #terceiro quartil\n",
        "    return n.quantile(0.75)\n",
        "\n",
        "\n",
        "print(bdat[[\"ABV\",\"review_aroma\",\"review_overall\"]].agg([sum,min,q1,q2,q3,max]))"
      ],
      "execution_count": null,
      "outputs": [
        {
          "output_type": "stream",
          "name": "stdout",
          "text": [
            "          ABV  review_aroma  review_overall\n",
            "sum  20865.82  11633.208005    11980.827409\n",
            "min      0.00      1.509615        1.136364\n",
            "q1       5.00      3.422559        3.566667\n",
            "q2       6.00      3.720183        3.830239\n",
            "q3       7.60      3.978000        4.032847\n",
            "max     57.50      5.000000        5.000000\n"
          ]
        }
      ]
    },
    {
      "cell_type": "markdown",
      "metadata": {
        "id": "PSiHqBL1qbM4"
      },
      "source": [
        "##Criar e exportar um dataframe a partir de outro dataframe"
      ]
    },
    {
      "cell_type": "markdown",
      "metadata": {
        "id": "arDlTFGVqfbW"
      },
      "source": [
        "Suponha que queremos criar um dataframe e exportar as medidas obtidas no último exemplo para um arquivo csv:"
      ]
    },
    {
      "cell_type": "code",
      "metadata": {
        "colab": {
          "base_uri": "https://localhost:8080/"
        },
        "id": "DZgCOPibql7g",
        "outputId": "9bcd5e0b-cc72-4503-bf34-c347691bcc0b"
      },
      "source": [
        "#usando as variáveis da célula anterior\n",
        "\n",
        "def q1(n): #primeiro quartil\n",
        "    return n.quantile(0.25)\n",
        "\n",
        "def q2(n): #mediana\n",
        "    return n.quantile(0.5)\n",
        "\n",
        "def q3(n): #terceiro quartil\n",
        "    return n.quantile(0.75)\n",
        "\n",
        "\n",
        "novodf=bdat[[\"ABV\",\"review_aroma\",\"review_overall\"]].agg([sum,min,q1,q2,q3,max])\n",
        "\n",
        "novodf.to_csv('resumo.csv')\n",
        "print(novodf)"
      ],
      "execution_count": null,
      "outputs": [
        {
          "output_type": "stream",
          "name": "stdout",
          "text": [
            "          ABV  review_aroma  review_overall\n",
            "sum  20865.82  11633.208005    11980.827409\n",
            "min      0.00      1.509615        1.136364\n",
            "q1       5.00      3.422559        3.566667\n",
            "q2       6.00      3.720183        3.830239\n",
            "q3       7.60      3.978000        4.032847\n",
            "max     57.50      5.000000        5.000000\n"
          ]
        }
      ]
    }
  ]
}